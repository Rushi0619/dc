{
 "cells": [
  {
   "cell_type": "code",
   "execution_count": null,
   "id": "777bd961-e12b-4da2-843e-207934f55824",
   "metadata": {},
   "outputs": [],
   "source": [
    "#server\n",
    "import Pyro4\n",
    "@Pyro4.expose\n",
    "class stringconcat:\n",
    "    def stringconcat(self,str1,str2):\n",
    "        return str1+str2\n",
    "\n",
    "daemon=Pyro4.Daemon()\n",
    "uri=daemon.register(stringconcat)\n",
    "print(uri)\n",
    "daemon.requestLoop()"
   ]
  },
  {
   "cell_type": "code",
   "execution_count": null,
   "id": "ff62f4cb-051e-4e01-9309-b76e29835f72",
   "metadata": {},
   "outputs": [],
   "source": [
    "#client\n",
    "import Pyro4\n",
    "uri=input('enter the uri of server')\n",
    "concat=Pyro4.proxy(uri)\n",
    "str1=input('enter the 1st string')\n",
    "str2=input('enter the 2st string')\n",
    "result=concat.stringconcat(str1+str2)\n",
    "print(result)"
   ]
  }
 ],
 "metadata": {
  "kernelspec": {
   "display_name": "Python 3 (ipykernel)",
   "language": "python",
   "name": "python3"
  },
  "language_info": {
   "codemirror_mode": {
    "name": "ipython",
    "version": 3
   },
   "file_extension": ".py",
   "mimetype": "text/x-python",
   "name": "python",
   "nbconvert_exporter": "python",
   "pygments_lexer": "ipython3",
   "version": "3.11.7"
  }
 },
 "nbformat": 4,
 "nbformat_minor": 5
}
