{
 "cells": [
  {
   "cell_type": "code",
   "execution_count": null,
   "id": "d867b36e-aeb0-4bc8-ae2b-36bd632b7228",
   "metadata": {},
   "outputs": [
    {
     "name": "stdout",
     "output_type": "stream",
     "text": [
      "PYRO:obj_b801c12b602e4d2296c7dcf7dbe8d519@localhost:63097\n"
     ]
    }
   ],
   "source": [
    "#server \n",
    "import Pyro4\n",
    "@Pyro4.expose\n",
    "class palindrome(object):\n",
    "    def palindrome(self,text):\n",
    "        text=text.lower().replace(\" \",\"\")\n",
    "        return text==text[::-1]\n",
    "daemon=Pyro4.Daemon()\n",
    "uri=daemon.register(palindrome)\n",
    "print(uri)\n",
    "daemon.requestLoop()"
   ]
  },
  {
   "cell_type": "code",
   "execution_count": null,
   "id": "3f654ee3-286e-44da-bdfe-da64ab7ce7c5",
   "metadata": {},
   "outputs": [],
   "source": [
    "#client\n",
    "import Pyro4\n",
    "uri=input('enter the uri of server')\n",
    "check=Pyro4.Proxy(uri)\n",
    "string=input('enter the string')\n",
    "result=check.palindrome(string)\n",
    "if result:\n",
    "    print('string is palindrome')\n",
    "else:\n",
    "    print('string is not palindrome')"
   ]
  },
  {
   "cell_type": "code",
   "execution_count": null,
   "id": "37c939ac-0b10-47d3-ab38-88e8afb8a1e7",
   "metadata": {},
   "outputs": [],
   "source": []
  }
 ],
 "metadata": {
  "kernelspec": {
   "display_name": "Python 3 (ipykernel)",
   "language": "python",
   "name": "python3"
  },
  "language_info": {
   "codemirror_mode": {
    "name": "ipython",
    "version": 3
   },
   "file_extension": ".py",
   "mimetype": "text/x-python",
   "name": "python",
   "nbconvert_exporter": "python",
   "pygments_lexer": "ipython3",
   "version": "3.11.7"
  }
 },
 "nbformat": 4,
 "nbformat_minor": 5
}
