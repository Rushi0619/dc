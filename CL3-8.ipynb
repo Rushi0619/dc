{
 "cells": [
  {
   "cell_type": "code",
   "execution_count": 8,
   "id": "da9ab944-c64a-4289-955b-e3a428fd796b",
   "metadata": {},
   "outputs": [
    {
     "name": "stdout",
     "output_type": "stream",
     "text": [
      "Request 1: Random - Server Server B\n",
      "Request 2: Random - Server Server A\n",
      "Request 3: Random - Server Server B\n",
      "Request 4: Random - Server Server C\n",
      "Request 5: Random - Server Server C\n",
      "Request 6: Random - Server Server A\n",
      "Request 7: Random - Server Server B\n",
      "Request 8: Random - Server Server C\n",
      "Request 9: Random - Server Server C\n",
      "Request 10: Random - Server Server A\n"
     ]
    }
   ],
   "source": [
    "import random\n",
    "\n",
    "class LoadBalancer:\n",
    "    def __init__(self, servers):\n",
    "        self.servers = servers\n",
    "    \n",
    "    def random_selection(self):\n",
    "        return random.choice(self.servers)\n",
    "\n",
    "def simulate_client_requests(load_balancer, num_requests):\n",
    "    for i in range(num_requests):\n",
    "        print(f\"Request {i+1}: \", end=\"\")\n",
    "        # Using Random algorithm for load balancing\n",
    "        server_random = load_balancer.random_selection()\n",
    "        print(f\"Random - Server {server_random}\")\n",
    "\n",
    "servers = [\"Server A\", \"Server B\", \"Server C\"]\n",
    "# Create a LoadBalancer instance\n",
    "load_balancer = LoadBalancer(servers)\n",
    "# Simulate 10 client requests\n",
    "simulate_client_requests(load_balancer, 10)"
   ]
  },
  {
   "cell_type": "code",
   "execution_count": null,
   "id": "a076a9b5-ae74-424b-bcb4-11900c74442b",
   "metadata": {},
   "outputs": [],
   "source": []
  }
 ],
 "metadata": {
  "kernelspec": {
   "display_name": "Python 3 (ipykernel)",
   "language": "python",
   "name": "python3"
  },
  "language_info": {
   "codemirror_mode": {
    "name": "ipython",
    "version": 3
   },
   "file_extension": ".py",
   "mimetype": "text/x-python",
   "name": "python",
   "nbconvert_exporter": "python",
   "pygments_lexer": "ipython3",
   "version": "3.11.7"
  }
 },
 "nbformat": 4,
 "nbformat_minor": 5
}
