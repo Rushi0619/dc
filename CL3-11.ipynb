{
 "cells": [
  {
   "cell_type": "code",
   "execution_count": 1,
   "id": "2b5c5d6b-4547-4672-bef8-c377d35a6695",
   "metadata": {},
   "outputs": [
    {
     "name": "stdout",
     "output_type": "stream",
     "text": [
      "Accuracy: 0.9466666666666667\n"
     ]
    }
   ],
   "source": [
    "from sklearn.neighbors import KNeighborsClassifier\n",
    "from sklearn.metrics import accuracy_score\n",
    "from sklearn.model_selection import train_test_split\n",
    "from sklearn import datasets\n",
    "\n",
    "# Load Iris dataset\n",
    "iris = datasets.load_iris()\n",
    "X = iris.data\n",
    "y = iris.target\n",
    "\n",
    "# Split dataset into training and testing sets\n",
    "X_train, X_test, y_train, y_test = train_test_split(X, y, test_size=0.5, random_state=42)\n",
    "\n",
    "# Artificial Immune System (AIS) Classifier\n",
    "class AISClassifier:\n",
    "    def __init__(self, n_neighbors=10):\n",
    "        self.knn = KNeighborsClassifier(n_neighbors=n_neighbors)\n",
    "    \n",
    "    def fit(self, X_train, y_train):\n",
    "        self.knn.fit(X_train, y_train)\n",
    "    \n",
    "    def predict(self, X_test):\n",
    "        return self.knn.predict(X_test)\n",
    "\n",
    "# Train AIS classifier\n",
    "ais_clf = AISClassifier(n_neighbors=10)\n",
    "ais_clf.fit(X_train, y_train)\n",
    "\n",
    "# Make predictions\n",
    "y_pred = ais_clf.predict(X_test)\n",
    "\n",
    "# Calculate accuracy\n",
    "accuracy = accuracy_score(y_test, y_pred)\n",
    "print(\"Accuracy:\", accuracy)"
   ]
  },
  {
   "cell_type": "code",
   "execution_count": null,
   "id": "4cb78b5e-5e1d-4081-9638-12d53bc09618",
   "metadata": {},
   "outputs": [],
   "source": []
  },
  {
   "cell_type": "code",
   "execution_count": null,
   "id": "33e8cbcb-ff53-4f4f-8c18-ea917d47119a",
   "metadata": {},
   "outputs": [],
   "source": []
  }
 ],
 "metadata": {
  "kernelspec": {
   "display_name": "Python 3 (ipykernel)",
   "language": "python",
   "name": "python3"
  },
  "language_info": {
   "codemirror_mode": {
    "name": "ipython",
    "version": 3
   },
   "file_extension": ".py",
   "mimetype": "text/x-python",
   "name": "python",
   "nbconvert_exporter": "python",
   "pygments_lexer": "ipython3",
   "version": "3.11.7"
  }
 },
 "nbformat": 4,
 "nbformat_minor": 5
}
