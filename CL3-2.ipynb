{
 "cells": [
  {
   "cell_type": "code",
   "execution_count": null,
   "id": "c18729fa-de4b-41df-a3b2-9a39a162409f",
   "metadata": {},
   "outputs": [
    {
     "name": "stdout",
     "output_type": "stream",
     "text": [
      "server is ready to accept the request\n"
     ]
    },
    {
     "name": "stderr",
     "output_type": "stream",
     "text": [
      "127.0.0.1 - - [25/Apr/2024 20:51:49] \"POST /RPC2 HTTP/1.1\" 200 -\n"
     ]
    }
   ],
   "source": [
    "#server\n",
    "from xmlrpc.server import SimpleXMLRPCServer\n",
    "def arithmatic(n1,n2,opp):\n",
    "    if opp == 1:\n",
    "        return n1+n2\n",
    "    elif opp == 2:\n",
    "        return n1-n2\n",
    "    if opp == 3:\n",
    "        return n1*n2\n",
    "    if opp == 4:\n",
    "        return n1/n2\n",
    "    else:\n",
    "        return('enter the no 1 to 4')\n",
    "server=SimpleXMLRPCServer(('localhost',8000))\n",
    "server.register_function(arithmatic,'calculate')\n",
    "print('server is ready to accept the request')\n",
    "server.serve_forever()"
   ]
  },
  {
   "cell_type": "code",
   "execution_count": null,
   "id": "10b4bc83-b1ae-48e4-aca4-8f217d80c35e",
   "metadata": {},
   "outputs": [],
   "source": [
    "#client\n",
    "import xmlrpc.client\n",
    "def main():\n",
    "    server=xmlrpc.client.ServerProxy('http://localhost:8000')\n",
    "    n1=int(input('enter 1st no'))\n",
    "    n2=int(input('enter 2st no'))\n",
    "    opp=int(input('enter the opp no need to perform'))\n",
    "    result=server.calculate(n1,n2,opp)\n",
    "    print(result)\n",
    "if __name__ == '__main__':\n",
    "    main()"
   ]
  },
  {
   "cell_type": "code",
   "execution_count": null,
   "id": "5b5d7cb3-699e-44e4-98bf-ac27c71eeaf5",
   "metadata": {},
   "outputs": [],
   "source": []
  }
 ],
 "metadata": {
  "kernelspec": {
   "display_name": "Python 3 (ipykernel)",
   "language": "python",
   "name": "python3"
  },
  "language_info": {
   "codemirror_mode": {
    "name": "ipython",
    "version": 3
   },
   "file_extension": ".py",
   "mimetype": "text/x-python",
   "name": "python",
   "nbconvert_exporter": "python",
   "pygments_lexer": "ipython3",
   "version": "3.11.7"
  }
 },
 "nbformat": 4,
 "nbformat_minor": 5
}
