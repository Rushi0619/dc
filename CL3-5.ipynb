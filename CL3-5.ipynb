{
 "cells": [
  {
   "cell_type": "code",
   "execution_count": 2,
   "id": "0e0eb2cd-a588-4b7e-9ece-d2e3ae4aff13",
   "metadata": {},
   "outputs": [
    {
     "name": "stderr",
     "output_type": "stream",
     "text": [
      "usage: ipykernel_launcher.py [options] [input files]\n",
      "ipykernel_launcher.py: error: unrecognized arguments: -f\n"
     ]
    },
    {
     "ename": "SystemExit",
     "evalue": "2",
     "output_type": "error",
     "traceback": [
      "An exception has occurred, use %tb to see the full traceback.\n",
      "\u001b[1;31mSystemExit\u001b[0m\u001b[1;31m:\u001b[0m 2\n"
     ]
    }
   ],
   "source": [
    "#Character_Count\n",
    "from mrjob.job import MRJob\n",
    "\n",
    "class MRCharCount(MRJob):\n",
    "    def mapper(self, _, line):\n",
    "        for char in line.strip():\n",
    "            yield char, 1\n",
    "    def reducer(self, char, counts):\n",
    "        yield char, sum(counts)\n",
    "if __name__ == '__main__':\n",
    "    MRCharCount.run()"
   ]
  },
  {
   "cell_type": "code",
   "execution_count": 3,
   "id": "bf284293-f990-41ef-9351-682fc02856d5",
   "metadata": {},
   "outputs": [
    {
     "name": "stderr",
     "output_type": "stream",
     "text": [
      "usage: ipykernel_launcher.py [options] [input files]\n",
      "ipykernel_launcher.py: error: unrecognized arguments: -f\n"
     ]
    },
    {
     "ename": "SystemExit",
     "evalue": "2",
     "output_type": "error",
     "traceback": [
      "An exception has occurred, use %tb to see the full traceback.\n",
      "\u001b[1;31mSystemExit\u001b[0m\u001b[1;31m:\u001b[0m 2\n"
     ]
    }
   ],
   "source": [
    "#woed_count\n",
    "from mrjob.job import MRJob\n",
    "import re\n",
    "WORD_REGEXP = re.compile(r\"[\\w']+\")\n",
    "class MRWordCount(MRJob):\n",
    "    def mapper(self, _, line):\n",
    "        for word in WORD_REGEXP.findall(line):\n",
    "            yield word.lower(), 1\n",
    "    def reducer(self, word, counts):\n",
    "        yield word, sum(counts)\n",
    "if __name__ == '__main__':\n",
    "    MRWordCount.run()"
   ]
  },
  {
   "cell_type": "code",
   "execution_count": null,
   "id": "e6e6acfb-2a46-4c02-881b-6c5f6d47e1d7",
   "metadata": {},
   "outputs": [],
   "source": []
  }
 ],
 "metadata": {
  "kernelspec": {
   "display_name": "Python 3 (ipykernel)",
   "language": "python",
   "name": "python3"
  },
  "language_info": {
   "codemirror_mode": {
    "name": "ipython",
    "version": 3
   },
   "file_extension": ".py",
   "mimetype": "text/x-python",
   "name": "python",
   "nbconvert_exporter": "python",
   "pygments_lexer": "ipython3",
   "version": "3.11.7"
  }
 },
 "nbformat": 4,
 "nbformat_minor": 5
}
