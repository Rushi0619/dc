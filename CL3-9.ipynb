{
 "cells": [
  {
   "cell_type": "code",
   "execution_count": 2,
   "id": "c1eea6ed-d47d-4062-bca8-d9c7dbe500c0",
   "metadata": {},
   "outputs": [
    {
     "name": "stdout",
     "output_type": "stream",
     "text": [
      "Best solution: 0.052191533319168704\n",
      "Maximum value: 3.9972760438497943\n"
     ]
    }
   ],
   "source": [
    "import random\n",
    "\n",
    "# Objective function\n",
    "objective_function = lambda x: -x**2 + 4\n",
    "\n",
    "# Clonal Selection Algorithm\n",
    "def clonal_selection(iterations=100, pop_size=10):\n",
    "    population = [random.uniform(-10, 10) for _ in range(pop_size)]\n",
    "    for _ in range(iterations):\n",
    "        population.sort(key=objective_function, reverse=True)\n",
    "        population = [x + random.uniform(-1, 1) for x in population[:len(population)//2] * 2]\n",
    "    return max(population, key=objective_function)\n",
    "\n",
    "# Run the algorithm\n",
    "best_solution = clonal_selection()\n",
    "print(f\"Best solution: {best_solution}\")\n",
    "print(f\"Maximum value: {objective_function(best_solution)}\")"
   ]
  },
  {
   "cell_type": "code",
   "execution_count": null,
   "id": "a7d20716-d297-4e83-a9c9-bd4768a096d5",
   "metadata": {},
   "outputs": [],
   "source": []
  }
 ],
 "metadata": {
  "kernelspec": {
   "display_name": "Python 3 (ipykernel)",
   "language": "python",
   "name": "python3"
  },
  "language_info": {
   "codemirror_mode": {
    "name": "ipython",
    "version": 3
   },
   "file_extension": ".py",
   "mimetype": "text/x-python",
   "name": "python",
   "nbconvert_exporter": "python",
   "pygments_lexer": "ipython3",
   "version": "3.11.7"
  }
 },
 "nbformat": 4,
 "nbformat_minor": 5
}
