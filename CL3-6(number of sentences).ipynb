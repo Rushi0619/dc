{
 "cells": [
  {
   "cell_type": "code",
   "execution_count": 1,
   "id": "5cce679d-c300-42a4-8e3f-cc1f80f7659f",
   "metadata": {},
   "outputs": [
    {
     "name": "stderr",
     "output_type": "stream",
     "text": [
      "usage: ipykernel_launcher.py [options] [input files]\n",
      "ipykernel_launcher.py: error: unrecognized arguments: -f\n"
     ]
    },
    {
     "ename": "SystemExit",
     "evalue": "2",
     "output_type": "error",
     "traceback": [
      "An exception has occurred, use %tb to see the full traceback.\n",
      "\u001b[1;31mSystemExit\u001b[0m\u001b[1;31m:\u001b[0m 2\n"
     ]
    },
    {
     "name": "stderr",
     "output_type": "stream",
     "text": [
      "C:\\Users\\rushi\\anaconda3\\Lib\\site-packages\\IPython\\core\\interactiveshell.py:3561: UserWarning: To exit: use 'exit', 'quit', or Ctrl-D.\n",
      "  warn(\"To exit: use 'exit', 'quit', or Ctrl-D.\", stacklevel=1)\n"
     ]
    }
   ],
   "source": [
    "#counting the number of sentences\n",
    "from mrjob.job import MRJob\n",
    "import re\n",
    "\n",
    "class SentenceCountJob(MRJob):\n",
    "    def mapper(self, _, line):\n",
    "        sentences = re.split(r'[.!?]', line)\n",
    "        for sentence in sentences:\n",
    "            if sentence.strip():\n",
    "                yield sentence.strip(), 1\n",
    "        \n",
    "    def reducer(self, key, values):\n",
    "        yield key, sum(values)\n",
    "if __name__ == '__main__':\n",
    "    SentenceCountJob.run()"
   ]
  },
  {
   "cell_type": "code",
   "execution_count": null,
   "id": "e7155e54-e885-4600-a1d0-287f30ab31a3",
   "metadata": {},
   "outputs": [],
   "source": []
  }
 ],
 "metadata": {
  "kernelspec": {
   "display_name": "Python 3 (ipykernel)",
   "language": "python",
   "name": "python3"
  },
  "language_info": {
   "codemirror_mode": {
    "name": "ipython",
    "version": 3
   },
   "file_extension": ".py",
   "mimetype": "text/x-python",
   "name": "python",
   "nbconvert_exporter": "python",
   "pygments_lexer": "ipython3",
   "version": "3.11.7"
  }
 },
 "nbformat": 4,
 "nbformat_minor": 5
}
