{
 "cells": [
  {
   "cell_type": "code",
   "execution_count": null,
   "id": "33dff6ac-2059-4e95-9809-09f62a1dede4",
   "metadata": {},
   "outputs": [],
   "source": [
    "#server\n",
    "from xmlrpc.server import SimpleXMLRPCServer\n",
    "def factorial(n):\n",
    "    if n == 0 or n == 1:\n",
    "        return 1\n",
    "    else:\n",
    "        return n*factorial(n-1)\n",
    "    \n",
    "server = SimpleXMLRPCServer(('localhost', 8000))\n",
    "server.register_function(factorial, 'calculate_factorial')\n",
    "print('Server is ready to accept the requests')\n",
    "server.serve_forever()"
   ]
  },
  {
   "cell_type": "code",
   "execution_count": null,
   "id": "239133c1-64bf-4b06-9910-1281245560bd",
   "metadata": {},
   "outputs": [],
   "source": [
    "#client\n",
    "import xmlrpc.client\n",
    "\n",
    "def main():\n",
    "    server = xmlrpc.client.ServerProxy('http://localhost:8000')\n",
    "    n = int(input('Enter number: '))\n",
    "    result = server.calculate_factorial(n)\n",
    "    print(result)\n",
    "    \n",
    "if __name__ == '__main__':\n",
    "    main()"
   ]
  },
  {
   "cell_type": "code",
   "execution_count": null,
   "id": "5f681d08-0bb7-4200-93d7-352ae734f50b",
   "metadata": {},
   "outputs": [],
   "source": []
  }
 ],
 "metadata": {
  "kernelspec": {
   "display_name": "Python 3 (ipykernel)",
   "language": "python",
   "name": "python3"
  },
  "language_info": {
   "codemirror_mode": {
    "name": "ipython",
    "version": 3
   },
   "file_extension": ".py",
   "mimetype": "text/x-python",
   "name": "python",
   "nbconvert_exporter": "python",
   "pygments_lexer": "ipython3",
   "version": "3.11.7"
  }
 },
 "nbformat": 4,
 "nbformat_minor": 5
}
