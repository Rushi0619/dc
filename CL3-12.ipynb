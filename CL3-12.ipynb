{
 "cells": [
  {
   "cell_type": "code",
   "execution_count": 5,
   "id": "dff21448-b096-49c5-a0c8-a98d6cb50674",
   "metadata": {},
   "outputs": [
    {
     "name": "stdout",
     "output_type": "stream",
     "text": [
      "gen\tnevals\n",
      "0  \t50    \n",
      "1  \t31    \n",
      "2  \t29    \n",
      "3  \t33    \n",
      "4  \t31    \n",
      "5  \t29    \n",
      "6  \t28    \n",
      "7  \t25    \n",
      "8  \t26    \n",
      "9  \t26    \n",
      "10 \t31    \n",
      "11 \t25    \n",
      "12 \t26    \n",
      "13 \t33    \n",
      "14 \t30    \n",
      "15 \t32    \n",
      "16 \t25    \n",
      "17 \t22    \n",
      "18 \t27    \n",
      "19 \t35    \n",
      "20 \t22    \n",
      "Best individual: [-0.015436595445017229, -0.006430602810003447, -0.004440032087303489]\n",
      "Best fitness: 0.0002993550163694355\n"
     ]
    }
   ],
   "source": [
    "import random\n",
    "from deap import base, creator, tools, algorithms\n",
    "\n",
    "# Define the evaluation function\n",
    "def eval_func(individual):\n",
    "    return sum(x ** 2 for x in individual),\n",
    "\n",
    "# DEAP setup\n",
    "creator.create(\"FitnessMin\", base.Fitness, weights=(-1.0,))\n",
    "creator.create(\"Individual\", list, fitness=creator.FitnessMin)\n",
    "toolbox = base.Toolbox()\n",
    "\n",
    "# Register attributes and methods\n",
    "toolbox.register(\"attr_float\", random.uniform, -5.0, 5.0)\n",
    "toolbox.register(\"individual\", tools.initRepeat, creator.Individual, toolbox.attr_float, n=3)\n",
    "toolbox.register(\"population\", tools.initRepeat, list, toolbox.individual)\n",
    "toolbox.register(\"mate\", tools.cxBlend, alpha=0.5)\n",
    "toolbox.register(\"mutate\", tools.mutGaussian, mu=0, sigma=1, indpb=0.2)\n",
    "toolbox.register(\"select\", tools.selTournament, tournsize=3)\n",
    "toolbox.register(\"evaluate\", eval_func)  # Register the evaluation function\n",
    "\n",
    "# Genetic Algorithm parameters\n",
    "population = toolbox.population(n=50)\n",
    "algorithms.eaSimple(population, toolbox, cxpb=0.5, mutpb=0.1, ngen=20)\n",
    "\n",
    "# Get the best individual after generations\n",
    "best_ind = tools.selBest(population, k=1)[0]\n",
    "best_fitness = best_ind.fitness.values[0]\n",
    "\n",
    "print(\"Best individual:\", best_ind)\n",
    "print(\"Best fitness:\", best_fitness)\n"
   ]
  },
  {
   "cell_type": "code",
   "execution_count": null,
   "id": "9412e0d2-17d0-43cc-bb0c-4e37a426becd",
   "metadata": {},
   "outputs": [],
   "source": []
  }
 ],
 "metadata": {
  "kernelspec": {
   "display_name": "Python 3 (ipykernel)",
   "language": "python",
   "name": "python3"
  },
  "language_info": {
   "codemirror_mode": {
    "name": "ipython",
    "version": 3
   },
   "file_extension": ".py",
   "mimetype": "text/x-python",
   "name": "python",
   "nbconvert_exporter": "python",
   "pygments_lexer": "ipython3",
   "version": "3.11.7"
  }
 },
 "nbformat": 4,
 "nbformat_minor": 5
}
